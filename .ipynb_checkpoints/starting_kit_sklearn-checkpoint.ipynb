{
 "cells": [
  {
   "cell_type": "code",
   "execution_count": 86,
   "id": "a8592b10-f936-4bc2-9250-6131c8802306",
   "metadata": {},
   "outputs": [],
   "source": [
    "import netCDF4 as nc\n",
    "import xarray as xr\n",
    "import numpy as np\n",
    "import datetime\n",
    "from dateutil.relativedelta import relativedelta\n",
    "import matplotlib.pyplot as plt\n",
    "from sklearn.ensemble import RandomForestRegressor\n",
    "from sklearn.metrics import mean_squared_error\n",
    "from sklearn.linear_model import LinearRegression"
   ]
  },
  {
   "cell_type": "code",
   "execution_count": 31,
   "id": "2b9dc5b4-abd2-4fb0-9f46-e9d7b9977848",
   "metadata": {},
   "outputs": [
    {
     "name": "stdout",
     "output_type": "stream",
     "text": [
      "  % Total    % Received % Xferd  Average Speed   Time    Time     Time  Current\n",
      "                                 Dload  Upload   Total   Spent    Left  Speed\n",
      "100 44.0M  100 44.0M    0     0  3895k      0  0:00:11  0:00:11 --:--:-- 7958k\n"
     ]
    }
   ],
   "source": [
    "#download\n",
    "!curl https://zenodo.org/record/6532501/files/CESM_EA_SPI.nc?download=1 --output CESM_EA_SPI.nc"
   ]
  },
  {
   "cell_type": "markdown",
   "id": "4bf8b527-f25b-4ae8-b54f-890e16dbc764",
   "metadata": {},
   "source": [
    "## Data visualization"
   ]
  },
  {
   "cell_type": "code",
   "execution_count": 22,
   "id": "5c29276a-8218-4149-962f-ef230d431dea",
   "metadata": {},
   "outputs": [
    {
     "data": {
      "text/html": [
       "<div><svg style=\"position: absolute; width: 0; height: 0; overflow: hidden\">\n",
       "<defs>\n",
       "<symbol id=\"icon-database\" viewBox=\"0 0 32 32\">\n",
       "<path d=\"M16 0c-8.837 0-16 2.239-16 5v4c0 2.761 7.163 5 16 5s16-2.239 16-5v-4c0-2.761-7.163-5-16-5z\"></path>\n",
       "<path d=\"M16 17c-8.837 0-16-2.239-16-5v6c0 2.761 7.163 5 16 5s16-2.239 16-5v-6c0 2.761-7.163 5-16 5z\"></path>\n",
       "<path d=\"M16 26c-8.837 0-16-2.239-16-5v6c0 2.761 7.163 5 16 5s16-2.239 16-5v-6c0 2.761-7.163 5-16 5z\"></path>\n",
       "</symbol>\n",
       "<symbol id=\"icon-file-text2\" viewBox=\"0 0 32 32\">\n",
       "<path d=\"M28.681 7.159c-0.694-0.947-1.662-2.053-2.724-3.116s-2.169-2.030-3.116-2.724c-1.612-1.182-2.393-1.319-2.841-1.319h-15.5c-1.378 0-2.5 1.121-2.5 2.5v27c0 1.378 1.122 2.5 2.5 2.5h23c1.378 0 2.5-1.122 2.5-2.5v-19.5c0-0.448-0.137-1.23-1.319-2.841zM24.543 5.457c0.959 0.959 1.712 1.825 2.268 2.543h-4.811v-4.811c0.718 0.556 1.584 1.309 2.543 2.268zM28 29.5c0 0.271-0.229 0.5-0.5 0.5h-23c-0.271 0-0.5-0.229-0.5-0.5v-27c0-0.271 0.229-0.5 0.5-0.5 0 0 15.499-0 15.5 0v7c0 0.552 0.448 1 1 1h7v19.5z\"></path>\n",
       "<path d=\"M23 26h-14c-0.552 0-1-0.448-1-1s0.448-1 1-1h14c0.552 0 1 0.448 1 1s-0.448 1-1 1z\"></path>\n",
       "<path d=\"M23 22h-14c-0.552 0-1-0.448-1-1s0.448-1 1-1h14c0.552 0 1 0.448 1 1s-0.448 1-1 1z\"></path>\n",
       "<path d=\"M23 18h-14c-0.552 0-1-0.448-1-1s0.448-1 1-1h14c0.552 0 1 0.448 1 1s-0.448 1-1 1z\"></path>\n",
       "</symbol>\n",
       "</defs>\n",
       "</svg>\n",
       "<style>/* CSS stylesheet for displaying xarray objects in jupyterlab.\n",
       " *\n",
       " */\n",
       "\n",
       ":root {\n",
       "  --xr-font-color0: var(--jp-content-font-color0, rgba(0, 0, 0, 1));\n",
       "  --xr-font-color2: var(--jp-content-font-color2, rgba(0, 0, 0, 0.54));\n",
       "  --xr-font-color3: var(--jp-content-font-color3, rgba(0, 0, 0, 0.38));\n",
       "  --xr-border-color: var(--jp-border-color2, #e0e0e0);\n",
       "  --xr-disabled-color: var(--jp-layout-color3, #bdbdbd);\n",
       "  --xr-background-color: var(--jp-layout-color0, white);\n",
       "  --xr-background-color-row-even: var(--jp-layout-color1, white);\n",
       "  --xr-background-color-row-odd: var(--jp-layout-color2, #eeeeee);\n",
       "}\n",
       "\n",
       "html[theme=dark],\n",
       "body.vscode-dark {\n",
       "  --xr-font-color0: rgba(255, 255, 255, 1);\n",
       "  --xr-font-color2: rgba(255, 255, 255, 0.54);\n",
       "  --xr-font-color3: rgba(255, 255, 255, 0.38);\n",
       "  --xr-border-color: #1F1F1F;\n",
       "  --xr-disabled-color: #515151;\n",
       "  --xr-background-color: #111111;\n",
       "  --xr-background-color-row-even: #111111;\n",
       "  --xr-background-color-row-odd: #313131;\n",
       "}\n",
       "\n",
       ".xr-wrap {\n",
       "  display: block !important;\n",
       "  min-width: 300px;\n",
       "  max-width: 700px;\n",
       "}\n",
       "\n",
       ".xr-text-repr-fallback {\n",
       "  /* fallback to plain text repr when CSS is not injected (untrusted notebook) */\n",
       "  display: none;\n",
       "}\n",
       "\n",
       ".xr-header {\n",
       "  padding-top: 6px;\n",
       "  padding-bottom: 6px;\n",
       "  margin-bottom: 4px;\n",
       "  border-bottom: solid 1px var(--xr-border-color);\n",
       "}\n",
       "\n",
       ".xr-header > div,\n",
       ".xr-header > ul {\n",
       "  display: inline;\n",
       "  margin-top: 0;\n",
       "  margin-bottom: 0;\n",
       "}\n",
       "\n",
       ".xr-obj-type,\n",
       ".xr-array-name {\n",
       "  margin-left: 2px;\n",
       "  margin-right: 10px;\n",
       "}\n",
       "\n",
       ".xr-obj-type {\n",
       "  color: var(--xr-font-color2);\n",
       "}\n",
       "\n",
       ".xr-sections {\n",
       "  padding-left: 0 !important;\n",
       "  display: grid;\n",
       "  grid-template-columns: 150px auto auto 1fr 20px 20px;\n",
       "}\n",
       "\n",
       ".xr-section-item {\n",
       "  display: contents;\n",
       "}\n",
       "\n",
       ".xr-section-item input {\n",
       "  display: none;\n",
       "}\n",
       "\n",
       ".xr-section-item input + label {\n",
       "  color: var(--xr-disabled-color);\n",
       "}\n",
       "\n",
       ".xr-section-item input:enabled + label {\n",
       "  cursor: pointer;\n",
       "  color: var(--xr-font-color2);\n",
       "}\n",
       "\n",
       ".xr-section-item input:enabled + label:hover {\n",
       "  color: var(--xr-font-color0);\n",
       "}\n",
       "\n",
       ".xr-section-summary {\n",
       "  grid-column: 1;\n",
       "  color: var(--xr-font-color2);\n",
       "  font-weight: 500;\n",
       "}\n",
       "\n",
       ".xr-section-summary > span {\n",
       "  display: inline-block;\n",
       "  padding-left: 0.5em;\n",
       "}\n",
       "\n",
       ".xr-section-summary-in:disabled + label {\n",
       "  color: var(--xr-font-color2);\n",
       "}\n",
       "\n",
       ".xr-section-summary-in + label:before {\n",
       "  display: inline-block;\n",
       "  content: '►';\n",
       "  font-size: 11px;\n",
       "  width: 15px;\n",
       "  text-align: center;\n",
       "}\n",
       "\n",
       ".xr-section-summary-in:disabled + label:before {\n",
       "  color: var(--xr-disabled-color);\n",
       "}\n",
       "\n",
       ".xr-section-summary-in:checked + label:before {\n",
       "  content: '▼';\n",
       "}\n",
       "\n",
       ".xr-section-summary-in:checked + label > span {\n",
       "  display: none;\n",
       "}\n",
       "\n",
       ".xr-section-summary,\n",
       ".xr-section-inline-details {\n",
       "  padding-top: 4px;\n",
       "  padding-bottom: 4px;\n",
       "}\n",
       "\n",
       ".xr-section-inline-details {\n",
       "  grid-column: 2 / -1;\n",
       "}\n",
       "\n",
       ".xr-section-details {\n",
       "  display: none;\n",
       "  grid-column: 1 / -1;\n",
       "  margin-bottom: 5px;\n",
       "}\n",
       "\n",
       ".xr-section-summary-in:checked ~ .xr-section-details {\n",
       "  display: contents;\n",
       "}\n",
       "\n",
       ".xr-array-wrap {\n",
       "  grid-column: 1 / -1;\n",
       "  display: grid;\n",
       "  grid-template-columns: 20px auto;\n",
       "}\n",
       "\n",
       ".xr-array-wrap > label {\n",
       "  grid-column: 1;\n",
       "  vertical-align: top;\n",
       "}\n",
       "\n",
       ".xr-preview {\n",
       "  color: var(--xr-font-color3);\n",
       "}\n",
       "\n",
       ".xr-array-preview,\n",
       ".xr-array-data {\n",
       "  padding: 0 5px !important;\n",
       "  grid-column: 2;\n",
       "}\n",
       "\n",
       ".xr-array-data,\n",
       ".xr-array-in:checked ~ .xr-array-preview {\n",
       "  display: none;\n",
       "}\n",
       "\n",
       ".xr-array-in:checked ~ .xr-array-data,\n",
       ".xr-array-preview {\n",
       "  display: inline-block;\n",
       "}\n",
       "\n",
       ".xr-dim-list {\n",
       "  display: inline-block !important;\n",
       "  list-style: none;\n",
       "  padding: 0 !important;\n",
       "  margin: 0;\n",
       "}\n",
       "\n",
       ".xr-dim-list li {\n",
       "  display: inline-block;\n",
       "  padding: 0;\n",
       "  margin: 0;\n",
       "}\n",
       "\n",
       ".xr-dim-list:before {\n",
       "  content: '(';\n",
       "}\n",
       "\n",
       ".xr-dim-list:after {\n",
       "  content: ')';\n",
       "}\n",
       "\n",
       ".xr-dim-list li:not(:last-child):after {\n",
       "  content: ',';\n",
       "  padding-right: 5px;\n",
       "}\n",
       "\n",
       ".xr-has-index {\n",
       "  font-weight: bold;\n",
       "}\n",
       "\n",
       ".xr-var-list,\n",
       ".xr-var-item {\n",
       "  display: contents;\n",
       "}\n",
       "\n",
       ".xr-var-item > div,\n",
       ".xr-var-item label,\n",
       ".xr-var-item > .xr-var-name span {\n",
       "  background-color: var(--xr-background-color-row-even);\n",
       "  margin-bottom: 0;\n",
       "}\n",
       "\n",
       ".xr-var-item > .xr-var-name:hover span {\n",
       "  padding-right: 5px;\n",
       "}\n",
       "\n",
       ".xr-var-list > li:nth-child(odd) > div,\n",
       ".xr-var-list > li:nth-child(odd) > label,\n",
       ".xr-var-list > li:nth-child(odd) > .xr-var-name span {\n",
       "  background-color: var(--xr-background-color-row-odd);\n",
       "}\n",
       "\n",
       ".xr-var-name {\n",
       "  grid-column: 1;\n",
       "}\n",
       "\n",
       ".xr-var-dims {\n",
       "  grid-column: 2;\n",
       "}\n",
       "\n",
       ".xr-var-dtype {\n",
       "  grid-column: 3;\n",
       "  text-align: right;\n",
       "  color: var(--xr-font-color2);\n",
       "}\n",
       "\n",
       ".xr-var-preview {\n",
       "  grid-column: 4;\n",
       "}\n",
       "\n",
       ".xr-var-name,\n",
       ".xr-var-dims,\n",
       ".xr-var-dtype,\n",
       ".xr-preview,\n",
       ".xr-attrs dt {\n",
       "  white-space: nowrap;\n",
       "  overflow: hidden;\n",
       "  text-overflow: ellipsis;\n",
       "  padding-right: 10px;\n",
       "}\n",
       "\n",
       ".xr-var-name:hover,\n",
       ".xr-var-dims:hover,\n",
       ".xr-var-dtype:hover,\n",
       ".xr-attrs dt:hover {\n",
       "  overflow: visible;\n",
       "  width: auto;\n",
       "  z-index: 1;\n",
       "}\n",
       "\n",
       ".xr-var-attrs,\n",
       ".xr-var-data {\n",
       "  display: none;\n",
       "  background-color: var(--xr-background-color) !important;\n",
       "  padding-bottom: 5px !important;\n",
       "}\n",
       "\n",
       ".xr-var-attrs-in:checked ~ .xr-var-attrs,\n",
       ".xr-var-data-in:checked ~ .xr-var-data {\n",
       "  display: block;\n",
       "}\n",
       "\n",
       ".xr-var-data > table {\n",
       "  float: right;\n",
       "}\n",
       "\n",
       ".xr-var-name span,\n",
       ".xr-var-data,\n",
       ".xr-attrs {\n",
       "  padding-left: 25px !important;\n",
       "}\n",
       "\n",
       ".xr-attrs,\n",
       ".xr-var-attrs,\n",
       ".xr-var-data {\n",
       "  grid-column: 1 / -1;\n",
       "}\n",
       "\n",
       "dl.xr-attrs {\n",
       "  padding: 0;\n",
       "  margin: 0;\n",
       "  display: grid;\n",
       "  grid-template-columns: 125px auto;\n",
       "}\n",
       "\n",
       ".xr-attrs dt,\n",
       ".xr-attrs dd {\n",
       "  padding: 0;\n",
       "  margin: 0;\n",
       "  float: left;\n",
       "  padding-right: 10px;\n",
       "  width: auto;\n",
       "}\n",
       "\n",
       ".xr-attrs dt {\n",
       "  font-weight: normal;\n",
       "  grid-column: 1;\n",
       "}\n",
       "\n",
       ".xr-attrs dt:hover span {\n",
       "  display: inline-block;\n",
       "  background: var(--xr-background-color);\n",
       "  padding-right: 10px;\n",
       "}\n",
       "\n",
       ".xr-attrs dd {\n",
       "  grid-column: 2;\n",
       "  white-space: pre-wrap;\n",
       "  word-break: break-all;\n",
       "}\n",
       "\n",
       ".xr-icon-database,\n",
       ".xr-icon-file-text2 {\n",
       "  display: inline-block;\n",
       "  vertical-align: middle;\n",
       "  width: 1em;\n",
       "  height: 1.5em !important;\n",
       "  stroke-width: 0;\n",
       "  stroke: currentColor;\n",
       "  fill: currentColor;\n",
       "}\n",
       "</style><pre class='xr-text-repr-fallback'>&lt;xarray.DataArray &#x27;spi&#x27; (time: 21612, lat: 13, lon: 20)&gt;\n",
       "[5619120 values with dtype=float64]\n",
       "Coordinates:\n",
       "  * time     (time) object &#x27;0400-01-16T12:00:00&#x27; ... &#x27;2200-12-16T12:00:00&#x27;\n",
       "  * lat      (lat) float64 3.298 4.241 5.183 6.126 ... 11.78 12.72 13.66 14.61\n",
       "  * lon      (lon) float64 23.75 25.0 26.25 27.5 28.75 ... 43.75 45.0 46.25 47.5\n",
       "Attributes:\n",
       "    title:          Standardized Precipitation Index\n",
       "    standard_name:  atmosphere_water__standardized_precipitation_wetness_index\n",
       "    long_name:      Standardized Precipitation Index\n",
       "    units:          unitless\n",
       "    valid_min:      -3.09\n",
       "    valid_max:      3.09\n",
       "    valid_range:    [-3.09  3.09]</pre><div class='xr-wrap' style='display:none'><div class='xr-header'><div class='xr-obj-type'>xarray.DataArray</div><div class='xr-array-name'>'spi'</div><ul class='xr-dim-list'><li><span class='xr-has-index'>time</span>: 21612</li><li><span class='xr-has-index'>lat</span>: 13</li><li><span class='xr-has-index'>lon</span>: 20</li></ul></div><ul class='xr-sections'><li class='xr-section-item'><div class='xr-array-wrap'><input id='section-20b18dac-c6cb-495c-a4e0-f722f97e45a3' class='xr-array-in' type='checkbox' checked><label for='section-20b18dac-c6cb-495c-a4e0-f722f97e45a3' title='Show/hide data repr'><svg class='icon xr-icon-database'><use xlink:href='#icon-database'></use></svg></label><div class='xr-array-preview xr-preview'><span>...</span></div><div class='xr-array-data'><pre>[5619120 values with dtype=float64]</pre></div></div></li><li class='xr-section-item'><input id='section-6dcf23f7-fb29-43d3-aa56-5a744233ef08' class='xr-section-summary-in' type='checkbox'  checked><label for='section-6dcf23f7-fb29-43d3-aa56-5a744233ef08' class='xr-section-summary' >Coordinates: <span>(3)</span></label><div class='xr-section-inline-details'></div><div class='xr-section-details'><ul class='xr-var-list'><li class='xr-var-item'><div class='xr-var-name'><span class='xr-has-index'>time</span></div><div class='xr-var-dims'>(time)</div><div class='xr-var-dtype'>object</div><div class='xr-var-preview xr-preview'>&#x27;0400-01-16T12:00:00&#x27; ... &#x27;2200-...</div><input id='attrs-cb15bbb8-b2d5-484a-b231-141b9250518f' class='xr-var-attrs-in' type='checkbox' disabled><label for='attrs-cb15bbb8-b2d5-484a-b231-141b9250518f' title='Show/Hide attributes'><svg class='icon xr-icon-file-text2'><use xlink:href='#icon-file-text2'></use></svg></label><input id='data-56da6d9d-5dc3-4b8b-842c-766d5311e357' class='xr-var-data-in' type='checkbox'><label for='data-56da6d9d-5dc3-4b8b-842c-766d5311e357' title='Show/Hide data repr'><svg class='icon xr-icon-database'><use xlink:href='#icon-database'></use></svg></label><div class='xr-var-attrs'><dl class='xr-attrs'></dl></div><div class='xr-var-data'><pre>array([&#x27;0400-01-16T12:00:00&#x27;, &#x27;0400-02-15T00:00:00&#x27;, &#x27;0400-03-16T12:00:00&#x27;,\n",
       "       ..., &#x27;2200-10-16T12:00:00&#x27;, &#x27;2200-11-16T00:00:00&#x27;,\n",
       "       &#x27;2200-12-16T12:00:00&#x27;], dtype=object)</pre></div></li><li class='xr-var-item'><div class='xr-var-name'><span class='xr-has-index'>lat</span></div><div class='xr-var-dims'>(lat)</div><div class='xr-var-dtype'>float64</div><div class='xr-var-preview xr-preview'>3.298 4.241 5.183 ... 13.66 14.61</div><input id='attrs-92249b26-f300-43aa-8fab-77e01a75bcf4' class='xr-var-attrs-in' type='checkbox' disabled><label for='attrs-92249b26-f300-43aa-8fab-77e01a75bcf4' title='Show/Hide attributes'><svg class='icon xr-icon-file-text2'><use xlink:href='#icon-file-text2'></use></svg></label><input id='data-8a5387e3-484e-4cac-ab29-2c6c9d37f44a' class='xr-var-data-in' type='checkbox'><label for='data-8a5387e3-484e-4cac-ab29-2c6c9d37f44a' title='Show/Hide data repr'><svg class='icon xr-icon-database'><use xlink:href='#icon-database'></use></svg></label><div class='xr-var-attrs'><dl class='xr-attrs'></dl></div><div class='xr-var-data'><pre>array([ 3.298429,  4.240838,  5.183246,  6.125654,  7.068063,  8.010471,\n",
       "        8.95288 ,  9.895288, 10.837696, 11.780105, 12.722513, 13.664922,\n",
       "       14.607329])</pre></div></li><li class='xr-var-item'><div class='xr-var-name'><span class='xr-has-index'>lon</span></div><div class='xr-var-dims'>(lon)</div><div class='xr-var-dtype'>float64</div><div class='xr-var-preview xr-preview'>23.75 25.0 26.25 ... 46.25 47.5</div><input id='attrs-3ee35e6f-6910-45ed-8a7a-b5ceadca12ae' class='xr-var-attrs-in' type='checkbox' disabled><label for='attrs-3ee35e6f-6910-45ed-8a7a-b5ceadca12ae' title='Show/Hide attributes'><svg class='icon xr-icon-file-text2'><use xlink:href='#icon-file-text2'></use></svg></label><input id='data-a8659b71-7ab5-42cd-b6a7-4a0349155f08' class='xr-var-data-in' type='checkbox'><label for='data-a8659b71-7ab5-42cd-b6a7-4a0349155f08' title='Show/Hide data repr'><svg class='icon xr-icon-database'><use xlink:href='#icon-database'></use></svg></label><div class='xr-var-attrs'><dl class='xr-attrs'></dl></div><div class='xr-var-data'><pre>array([23.75, 25.  , 26.25, 27.5 , 28.75, 30.  , 31.25, 32.5 , 33.75, 35.  ,\n",
       "       36.25, 37.5 , 38.75, 40.  , 41.25, 42.5 , 43.75, 45.  , 46.25, 47.5 ])</pre></div></li></ul></div></li><li class='xr-section-item'><input id='section-6fd31150-2f7e-4149-afcd-2433da1a95a4' class='xr-section-summary-in' type='checkbox'  checked><label for='section-6fd31150-2f7e-4149-afcd-2433da1a95a4' class='xr-section-summary' >Attributes: <span>(7)</span></label><div class='xr-section-inline-details'></div><div class='xr-section-details'><dl class='xr-attrs'><dt><span>title :</span></dt><dd>Standardized Precipitation Index</dd><dt><span>standard_name :</span></dt><dd>atmosphere_water__standardized_precipitation_wetness_index</dd><dt><span>long_name :</span></dt><dd>Standardized Precipitation Index</dd><dt><span>units :</span></dt><dd>unitless</dd><dt><span>valid_min :</span></dt><dd>-3.09</dd><dt><span>valid_max :</span></dt><dd>3.09</dd><dt><span>valid_range :</span></dt><dd>[-3.09  3.09]</dd></dl></div></li></ul></div></div>"
      ],
      "text/plain": [
       "<xarray.DataArray 'spi' (time: 21612, lat: 13, lon: 20)>\n",
       "[5619120 values with dtype=float64]\n",
       "Coordinates:\n",
       "  * time     (time) object '0400-01-16T12:00:00' ... '2200-12-16T12:00:00'\n",
       "  * lat      (lat) float64 3.298 4.241 5.183 6.126 ... 11.78 12.72 13.66 14.61\n",
       "  * lon      (lon) float64 23.75 25.0 26.25 27.5 28.75 ... 43.75 45.0 46.25 47.5\n",
       "Attributes:\n",
       "    title:          Standardized Precipitation Index\n",
       "    standard_name:  atmosphere_water__standardized_precipitation_wetness_index\n",
       "    long_name:      Standardized Precipitation Index\n",
       "    units:          unitless\n",
       "    valid_min:      -3.09\n",
       "    valid_max:      3.09\n",
       "    valid_range:    [-3.09  3.09]"
      ]
     },
     "execution_count": 22,
     "metadata": {},
     "output_type": "execute_result"
    }
   ],
   "source": [
    "file_name = 'CESM_EA_SPI.nc'\n",
    "ds = xr.open_dataset(file_name)\n",
    "spi = ds['spi']\n",
    "spi"
   ]
  },
  {
   "cell_type": "code",
   "execution_count": 6,
   "id": "c0187129-02cc-4f16-bed0-8d4f46e3a37e",
   "metadata": {},
   "outputs": [
    {
     "data": {
      "text/plain": [
       "<matplotlib.collections.QuadMesh at 0x7fa4dff41a00>"
      ]
     },
     "execution_count": 6,
     "metadata": {},
     "output_type": "execute_result"
    },
    {
     "data": {
      "image/png": "[encoded data removed]",
      "text/plain": [
       "<Figure size 432x288 with 2 Axes>"
      ]
     },
     "metadata": {
      "needs_background": "light"
     },
     "output_type": "display_data"
    }
   ],
   "source": [
    "#plot spatial spi distribution for random time\n",
    "time = np.random.randint(spi.shape[0])\n",
    "spi2d = spi.isel(time=time)\n",
    "spi2d.plot()"
   ]
  },
  {
   "cell_type": "code",
   "execution_count": 28,
   "id": "711a36f4-8f42-464b-8d59-3286adcf2305",
   "metadata": {},
   "outputs": [
    {
     "data": {
      "text/plain": [
       "Text(0, 0.5, 'SPI')"
      ]
     },
     "execution_count": 28,
     "metadata": {},
     "output_type": "execute_result"
    },
    {
     "data": {
      "image/png": "[encoded data removed]",
      "text/plain": [
       "<Figure size 432x288 with 1 Axes>"
      ]
     },
     "metadata": {
      "needs_background": "light"
     },
     "output_type": "display_data"
    }
   ],
   "source": [
    "#plot spi time series at random location\n",
    "lat = np.random.randint(spi.shape[1])\n",
    "lon = np.random.randint(spi.shape[2])\n",
    "k = np.random.randint(spi.shape[0]-1000)\n",
    "plt.plot(spi[k:k+1000,lat,lon])\n",
    "plt.ylabel('SPI')"
   ]
  },
  {
   "cell_type": "code",
   "execution_count": 29,
   "id": "e2071b52-f150-4f02-9c41-a717bb9da816",
   "metadata": {},
   "outputs": [
    {
     "data": {
      "image/png": "[encoded data removed]",
      "text/plain": [
       "<Figure size 432x288 with 1 Axes>"
      ]
     },
     "metadata": {
      "needs_background": "light"
     },
     "output_type": "display_data"
    }
   ],
   "source": [
    "#plot overall spi distribution\n",
    "plt.hist(np.array(spi).flatten(), bins=100)\n",
    "plt.title('SPI distribution')\n",
    "plt.show()"
   ]
  },
  {
   "cell_type": "markdown",
   "id": "dd12f5c9-4034-4f7a-87f5-d31c03330283",
   "metadata": {},
   "source": [
    "## Prepare data"
   ]
  },
  {
   "cell_type": "code",
   "execution_count": 101,
   "id": "d79180d1-7b9e-496c-8072-947df6aeea39",
   "metadata": {},
   "outputs": [],
   "source": [
    "def assemble_predictors_predictands(start_date, end_date, lead_time, dataset, num_input_time_steps):\n",
    "    '''\n",
    "    Args\n",
    "    ----\n",
    "    start_date (str): The start date for extraction. Important, put the trailing 0 at the beginning of year for dates before 1000 (e.g., '0400')\n",
    "    end_date (str): The end date for extraction\n",
    "    lead_time (int): The number of months between the predictor/predictand\n",
    "    dataset (str): Either 'CESM' or 'ECMWF'\n",
    "    num_input_time_steps (int): The number of time steps to use for each predictor samples\n",
    "    '''    \n",
    "    file_name = {'CESM': 'CESM_EA_SPI.nc', 'ECMWF': 'ECMWF_EA_SPI.nc'}[dataset]\n",
    "    ds = xr.open_dataset(file_name)\n",
    "    spi = ds['spi'].sel(time=slice(start_date,end_date))\n",
    "    num_samples=spi.shape[0]\n",
    "    #Stack and remove nans\n",
    "    spi = np.stack([spi.values[n-num_input_time_steps:n] for n in range(num_input_time_steps, num_samples+1)])\n",
    "    num_samples = spi.shape[0]\n",
    "    spi[np.isnan(spi)] = 0\n",
    "    #make sure we have floats in there\n",
    "    X = spi.astype(np.float32)\n",
    "    # select Y\n",
    "    if dataset == 'ECMWF':\n",
    "        start_date_plus_lead = pd.to_datetime(start_date) + pd.DateOffset(months=lead_time+num_input_time_steps-1)\n",
    "        end_date_plus_lead = pd.to_datetime(end_date) + pd.DateOffset(months=lead_time)\n",
    "    elif dataset == 'CESM':\n",
    "        t_start=datetime.datetime(int(start_date.split('-')[0]),int(start_date.split('-')[1]),int(start_date.split('-')[2]))\n",
    "        t_end=datetime.datetime(int(end_date.split('-')[0]),int(end_date.split('-')[1]),int(end_date.split('-')[2]))\n",
    "        start_date_plus_lead = t_start + relativedelta(months=lead_time+num_input_time_steps-1)\n",
    "        end_date_plus_lead = t_end + relativedelta(months=lead_time)\n",
    "        if len(str(start_date_plus_lead.year))<4:\n",
    "            start_date_plus_lead = '0'+start_date_plus_lead.strftime('%Y-%m-%d')\n",
    "        elif len(str(start_date_plus_lead.year))==4:\n",
    "            start_date_plus_lead = start_date_plus_lead.strftime('%Y-%m-%d')\n",
    "        if len(str(end_date_plus_lead.year))<4:\n",
    "            end_date_plus_lead = '0'+end_date_plus_lead.strftime('%Y-%m-%d')\n",
    "        elif len(str(end_date_plus_lead.year))==4:\n",
    "            end_date_plus_lead = end_date_plus_lead.strftime('%Y-%m-%d')\n",
    "    subsetted_ds = ds['spi'].sel(time=slice(start_date_plus_lead, end_date_plus_lead))\n",
    "    y = subsetted_ds.values.astype(np.float32)\n",
    "    y[np.isnan(y)] = 0\n",
    "    ds.close()\n",
    "    X = np.moveaxis(X, 1,3)\n",
    "    orig_shape_X = X.shape\n",
    "    orig_shape_y = y.shape\n",
    "    y = y.reshape(np.shape(y)[0]*np.shape(y)[1]*np.shape(y)[2])\n",
    "    \n",
    "    X = X.reshape(np.shape(X)[0]*np.shape(X)[1]*np.shape(X)[2], np.shape(X)[3])\n",
    "    return X,y, orig_shape_X, orig_shape_y\n"
   ]
  },
  {
   "cell_type": "code",
   "execution_count": 102,
   "id": "3f655e89-fb1d-4d99-8ffd-600f435af5f2",
   "metadata": {},
   "outputs": [],
   "source": [
    "num_input_time_steps = 3 \n",
    "lead_time = 4\n",
    "\n",
    "climate_model = 'CESM'\n",
    "train_start_date = '0400-01-01'\n",
    "train_end_date = '1800-12-31'\n",
    "\n",
    "test_start_date = '1801-01-01'\n",
    "test_end_date = '1978-12-31'"
   ]
  },
  {
   "cell_type": "code",
   "execution_count": 123,
   "id": "afd79980-4bb0-4bfe-9267-bc69158c3478",
   "metadata": {},
   "outputs": [
    {
     "name": "stdout",
     "output_type": "stream",
     "text": [
      "(4370600, 3) (4370600,)\n"
     ]
    }
   ],
   "source": [
    "train_predictors, train_predictands, orig_shape_Xtrain, orig_shape_ytrain = assemble_predictors_predictands(train_start_date, train_end_date, lead_time, climate_model, num_input_time_steps)\n",
    "test_predictors, test_predictands, orig_shape_Xtest, orig_shape_ytest = assemble_predictors_predictands(test_start_date, test_end_date, lead_time, climate_model,num_input_time_steps)\n",
    "print(train_predictors.shape, train_predictands.shape)\n"
   ]
  },
  {
   "cell_type": "markdown",
   "id": "fb46752b-db97-4d5a-b26c-db0d287e4cf7",
   "metadata": {},
   "source": [
    "## Train model"
   ]
  },
  {
   "cell_type": "code",
   "execution_count": 124,
   "id": "5ef2183f-ccb4-4969-8c20-4d0b1391d034",
   "metadata": {},
   "outputs": [
    {
     "data": {
      "text/plain": [
       "LinearRegression()"
      ]
     },
     "execution_count": 124,
     "metadata": {},
     "output_type": "execute_result"
    }
   ],
   "source": [
    "#regr = RandomForestRegressor(max_depth=4, n_jobs=-1, max_samples=0.1)\n",
    "regr = LinearRegression()\n",
    "regr.fit(train_predictors, train_predictands)\n"
   ]
  },
  {
   "cell_type": "markdown",
   "id": "4ae5d9f7-849d-45a8-a928-2f5d98a51524",
   "metadata": {},
   "source": [
    "## Predict"
   ]
  },
  {
   "cell_type": "code",
   "execution_count": 125,
   "id": "9b10abdc-d33f-4301-ab2f-9b50711b7d60",
   "metadata": {},
   "outputs": [],
   "source": [
    "pred = regr.predict(test_predictors)"
   ]
  },
  {
   "cell_type": "markdown",
   "id": "5681d9c9-19eb-4589-bc3f-e29612f9b371",
   "metadata": {},
   "source": [
    "## Evaluate model"
   ]
  },
  {
   "cell_type": "code",
   "execution_count": 126,
   "id": "e8693e68-0bb7-4611-b1aa-66d5758669f3",
   "metadata": {},
   "outputs": [
    {
     "name": "stdout",
     "output_type": "stream",
     "text": [
      "MSE: 0.8412104\n"
     ]
    }
   ],
   "source": [
    "mse = mean_squared_error(pred, test_predictands)\n",
    "print('MSE:', mse)"
   ]
  },
  {
   "cell_type": "code",
   "execution_count": 127,
   "id": "90088c84-2edd-4c48-a4b0-df8abe1441c0",
   "metadata": {},
   "outputs": [],
   "source": [
    "#reshape prediction to initial shape\n",
    "pred = pred.reshape(orig_shape_ytest)\n",
    "test_predictands = test_predictands.reshape(orig_shape_ytest)"
   ]
  },
  {
   "cell_type": "code",
   "execution_count": 128,
   "id": "f84cc787-4ad6-473b-b2f0-ea72b3a9ca90",
   "metadata": {},
   "outputs": [
    {
     "data": {
      "text/plain": [
       "<matplotlib.colorbar.Colorbar at 0x7fa4ccc64cd0>"
      ]
     },
     "execution_count": 128,
     "metadata": {},
     "output_type": "execute_result"
    },
    {
     "data": {
      "image/png": "[encoded data removed]",
      "text/plain": [
       "<Figure size 2160x432 with 6 Axes>"
      ]
     },
     "metadata": {
      "needs_background": "light"
     },
     "output_type": "display_data"
    }
   ],
   "source": [
    "time = np.random.randint(pred.shape[0])\n",
    "plt.figure(figsize=(30,6))\n",
    "plt.subplot(1,3,1)\n",
    "plt.title('Prediction')\n",
    "plt.imshow(pred[time,:,:])\n",
    "plt.colorbar()\n",
    "plt.subplot(1,3,2)\n",
    "plt.title('Truth')\n",
    "plt.imshow(test_predictands[time,:,:])\n",
    "plt.colorbar()\n",
    "plt.subplot(1,3,3)\n",
    "plt.title('Error')\n",
    "plt.imshow(test_predictands[time,:,:]-pred[time,:,:])\n",
    "plt.colorbar()\n"
   ]
  },
  {
   "cell_type": "code",
   "execution_count": 131,
   "id": "076d46ff-66ef-45b5-b150-0b1f712e0fcc",
   "metadata": {},
   "outputs": [
    {
     "data": {
      "text/plain": [
       "<matplotlib.legend.Legend at 0x7fa4cc9c63d0>"
      ]
     },
     "execution_count": 131,
     "metadata": {},
     "output_type": "execute_result"
    },
    {
     "data": {
      "image/png": "[encoded data removed]",
      "text/plain": [
       "<Figure size 432x288 with 1 Axes>"
      ]
     },
     "metadata": {
      "needs_background": "light"
     },
     "output_type": "display_data"
    }
   ],
   "source": [
    "#plot spi time series at random location\n",
    "lat = np.random.randint(pred.shape[1])\n",
    "lon = np.random.randint(pred.shape[2])\n",
    "k = np.random.randint(pred.shape[0]-100)\n",
    "plt.plot(pred[k:k+100,lat,lon], label='Pred')\n",
    "plt.plot(test_predictands[k:k+100,lat,lon], label='Truth')\n",
    "plt.legend()\n"
   ]
  },
  {
   "cell_type": "code",
   "execution_count": null,
   "id": "71dc4031-0250-4a77-8573-30db43eba507",
   "metadata": {},
   "outputs": [],
   "source": []
  }
 ],
 "metadata": {
  "kernelspec": {
   "display_name": "Python 3 (ipykernel)",
   "language": "python",
   "name": "python3"
  },
  "language_info": {
   "codemirror_mode": {
    "name": "ipython",
    "version": 3
   },
   "file_extension": ".py",
   "mimetype": "text/x-python",
   "name": "python",
   "nbconvert_exporter": "python",
   "pygments_lexer": "ipython3",
   "version": "3.9.12"
  }
 },
 "nbformat": 4,
 "nbformat_minor": 5
}
