{
 "cells": [
  {
   "cell_type": "code",
   "execution_count": 13,
   "id": "a8592b10-f936-4bc2-9250-6131c8802306",
   "metadata": {},
   "outputs": [],
   "source": [
    "import netCDF4 as nc\n",
    "import xarray as xr\n",
    "import numpy as np\n",
    "import datetime\n",
    "from dateutil.relativedelta import relativedelta\n",
    "import matplotlib.pyplot as plt\n",
    "from sklearn.ensemble import RandomForestRegressor\n",
    "from sklearn.metrics import mean_squared_error"
   ]
  },
  {
   "cell_type": "markdown",
   "id": "dd12f5c9-4034-4f7a-87f5-d31c03330283",
   "metadata": {},
   "source": [
    "## Prepare data"
   ]
  },
  {
   "cell_type": "code",
   "execution_count": 3,
   "id": "d79180d1-7b9e-496c-8072-947df6aeea39",
   "metadata": {},
   "outputs": [],
   "source": [
    "def assemble_predictors_predictands(start_date, end_date, lead_time, dataset, num_input_time_steps):\n",
    "    '''\n",
    "    Args\n",
    "    ----\n",
    "    start_date (str): The start date for extraction. Important, put the trailing 0 at the beginning of year for dates before 1000 (e.g., '0400')\n",
    "    end_date (str): The end date for extraction\n",
    "    lead_time (int): The number of months between the predictor/predictand\n",
    "    dataset (str): Either 'CESM' or 'ECMWF'\n",
    "    num_input_time_steps (int): The number of time steps to use for each predictor samples\n",
    "    '''    \n",
    "    file_name = {'CESM': 'CESM_EA_SPI.nc', 'ECMWF': 'ECMWF_EA_SPI.nc'}[dataset]\n",
    "    ds = xr.open_dataset(file_name)\n",
    "    spi = ds['spi'].sel(time=slice(start_date,end_date))\n",
    "    num_samples=spi.shape[0]\n",
    "    #Stack and remove nans\n",
    "    spi = np.stack([spi.values[n-num_input_time_steps:n] for n in range(num_input_time_steps, num_samples+1)])\n",
    "    num_samples = spi.shape[0]\n",
    "    spi[np.isnan(spi)] = 0\n",
    "    #make sure we have floats in there\n",
    "    X = spi.astype(np.float32)\n",
    "    # select Y\n",
    "    if dataset == 'ECMWF':\n",
    "        start_date_plus_lead = pd.to_datetime(start_date) + pd.DateOffset(months=lead_time+num_input_time_steps-1)\n",
    "        end_date_plus_lead = pd.to_datetime(end_date) + pd.DateOffset(months=lead_time)\n",
    "    elif dataset == 'CESM':\n",
    "        t_start=datetime.datetime(int(start_date.split('-')[0]),int(start_date.split('-')[1]),int(start_date.split('-')[2]))\n",
    "        t_end=datetime.datetime(int(end_date.split('-')[0]),int(end_date.split('-')[1]),int(end_date.split('-')[2]))\n",
    "        start_date_plus_lead = t_start + relativedelta(months=lead_time+num_input_time_steps-1)\n",
    "        end_date_plus_lead = t_end + relativedelta(months=lead_time)\n",
    "        if len(str(start_date_plus_lead.year))<4:\n",
    "            start_date_plus_lead = '0'+start_date_plus_lead.strftime('%Y-%m-%d')\n",
    "        elif len(str(start_date_plus_lead.year))==4:\n",
    "            start_date_plus_lead = start_date_plus_lead.strftime('%Y-%m-%d')\n",
    "        if len(str(end_date_plus_lead.year))<4:\n",
    "            end_date_plus_lead = '0'+end_date_plus_lead.strftime('%Y-%m-%d')\n",
    "        elif len(str(end_date_plus_lead.year))==4:\n",
    "            end_date_plus_lead = end_date_plus_lead.strftime('%Y-%m-%d')\n",
    "    subsetted_ds = ds['spi'].sel(time=slice(start_date_plus_lead, end_date_plus_lead))\n",
    "    y = subsetted_ds.values.astype(np.float32)\n",
    "    y[np.isnan(y)] = 0\n",
    "    ds.close()\n",
    "    y = y.reshape(np.shape(y)[0]*np.shape(y)[1]*np.shape(y)[2])\n",
    "    X = np.swapaxes(X, 1,3)\n",
    "    X = X.reshape(np.shape(X)[0]*np.shape(X)[1]*np.shape(X)[2], np.shape(X)[3])\n",
    "    return X,y\n"
   ]
  },
  {
   "cell_type": "code",
   "execution_count": 4,
   "id": "3f655e89-fb1d-4d99-8ffd-600f435af5f2",
   "metadata": {},
   "outputs": [],
   "source": [
    "num_input_time_steps = 3 \n",
    "lead_time = 4\n",
    "\n",
    "climate_model = 'CESM'\n",
    "train_start_date = '0400-01-01'\n",
    "train_end_date = '1800-12-31'\n",
    "\n",
    "test_start_date = '1801-01-01'\n",
    "test_end_date = '1978-12-31'"
   ]
  },
  {
   "cell_type": "code",
   "execution_count": 5,
   "id": "afd79980-4bb0-4bfe-9267-bc69158c3478",
   "metadata": {},
   "outputs": [
    {
     "name": "stdout",
     "output_type": "stream",
     "text": [
      "(16810, 3, 13, 20)\n",
      "(2134, 3, 13, 20)\n"
     ]
    }
   ],
   "source": [
    "train_predictors, train_predictands = assemble_predictors_predictands(train_start_date, train_end_date, lead_time, climate_model, num_input_time_steps)\n",
    "test_predictors, test_predictands = assemble_predictors_predictands(test_start_date, test_end_date, lead_time, climate_model,num_input_time_steps)\n",
    "print(train_predictors.shape, train_predictands.shape)\n"
   ]
  },
  {
   "cell_type": "markdown",
   "id": "fb46752b-db97-4d5a-b26c-db0d287e4cf7",
   "metadata": {},
   "source": [
    "## Train model"
   ]
  },
  {
   "cell_type": "code",
   "execution_count": null,
   "id": "5ef2183f-ccb4-4969-8c20-4d0b1391d034",
   "metadata": {},
   "outputs": [],
   "source": [
    "regr = RandomForestRegressor(max_depth=3, n_jobs=-1, max_samples=0.1)\n",
    "regr.fit(train_predictors, train_predictands)\n"
   ]
  },
  {
   "cell_type": "markdown",
   "id": "4ae5d9f7-849d-45a8-a928-2f5d98a51524",
   "metadata": {},
   "source": [
    "## Predict"
   ]
  },
  {
   "cell_type": "code",
   "execution_count": 22,
   "id": "9b10abdc-d33f-4301-ab2f-9b50711b7d60",
   "metadata": {},
   "outputs": [],
   "source": [
    "pred = regr.predict(test_predictors)"
   ]
  },
  {
   "cell_type": "markdown",
   "id": "5681d9c9-19eb-4589-bc3f-e29612f9b371",
   "metadata": {},
   "source": [
    "## Evaluate model"
   ]
  },
  {
   "cell_type": "code",
   "execution_count": 23,
   "id": "e8693e68-0bb7-4611-b1aa-66d5758669f3",
   "metadata": {},
   "outputs": [
    {
     "name": "stdout",
     "output_type": "stream",
     "text": [
      "MSE: 1.0167857168018375\n"
     ]
    }
   ],
   "source": [
    "mse = mean_squared_error(pred, test_predictands)\n",
    "print('MSE:', mse)"
   ]
  },
  {
   "cell_type": "code",
   "execution_count": null,
   "id": "90088c84-2edd-4c48-a4b0-df8abe1441c0",
   "metadata": {},
   "outputs": [],
   "source": []
  }
 ],
 "metadata": {
  "kernelspec": {
   "display_name": "Python 3 (ipykernel)",
   "language": "python",
   "name": "python3"
  },
  "language_info": {
   "codemirror_mode": {
    "name": "ipython",
    "version": 3
   },
   "file_extension": ".py",
   "mimetype": "text/x-python",
   "name": "python",
   "nbconvert_exporter": "python",
   "pygments_lexer": "ipython3",
   "version": "3.9.12"
  }
 },
 "nbformat": 4,
 "nbformat_minor": 5
}
